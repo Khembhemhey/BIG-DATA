{
 "cells": [
  {
   "cell_type": "markdown",
   "id": "7ac4d091",
   "metadata": {
    "papermill": {
     "duration": 0.004131,
     "end_time": "2024-05-14T13:18:03.713754",
     "exception": false,
     "start_time": "2024-05-14T13:18:03.709623",
     "status": "completed"
    },
    "tags": []
   },
   "source": [
    "This analysis examines the dynamics of video game sales across key regions: North America, Europe, Japan, and the rest of the world.\n",
    "\n",
    "\n",
    "**General Trends**\n",
    "- Relatively stable growth observed across all markets from 1996 to around 2006-2009.\n",
    "- Consistent decline in sales noted post-2006-2009.\n",
    "- Total worldwide sales closely mimicked the trend observed in North America.\n",
    "\n",
    "\n",
    "\n",
    "**North America**\n",
    "- More pronounced fluctuations post-peak in 2008.\n",
    "- Steady decline with a minor pause in 2012, but no significant recovery thereafter.\n",
    "\n",
    "\n",
    "**Europe**\n",
    "- Sales pattern similar to North America but with less dramatic changes.\n",
    "- Sales rose steadily until 2008 before declining.\n",
    "\n",
    "**Japan**\n",
    "- Here, a peak in sales is observed earlier, around 2006."
   ]
  },
  {
   "cell_type": "code",
   "execution_count": 1,
   "id": "a5df38c7",
   "metadata": {},
   "outputs": [
    {
     "name": "stdout",
     "output_type": "stream",
     "text": [
      "Index(['Name', 'Platform', 'Year_of_Release', 'Genre', 'Publisher', 'NA_Sales',\n",
      "       'EU_Sales', 'JP_Sales', 'Other_Sales', 'Global_Sales', 'Critic_Score',\n",
      "       'Critic_Count', 'User_Score', 'User_Count', 'Developer', 'Rating'],\n",
      "      dtype='object')\n"
     ]
    }
   ],
   "source": [
    "import pandas as pd\n",
    "\n",
    "df = pd.read_csv('Video_Games_Sales.csv')\n",
    "\n",
    "df.dropna(inplace=True)\n",
    "\n",
    "df.drop_duplicates(inplace=True)\n",
    "\n",
    "df.to_csv('Video_Games_Sales.csv', index=False)\n",
    "\n",
    "print(df.columns)"
   ]
  },
  {
   "cell_type": "code",
   "execution_count": 1,
   "id": "db2b6ade",
   "metadata": {
    "_kg_hide-input": true,
    "execution": {
     "iopub.execute_input": "2024-05-14T13:18:03.723069Z",
     "iopub.status.busy": "2024-05-14T13:18:03.722605Z",
     "iopub.status.idle": "2024-05-14T13:18:03.740035Z",
     "shell.execute_reply": "2024-05-14T13:18:03.738868Z"
    },
    "papermill": {
     "duration": 0.025067,
     "end_time": "2024-05-14T13:18:03.742637",
     "exception": false,
     "start_time": "2024-05-14T13:18:03.717570",
     "status": "completed"
    },
    "tags": []
   },
   "outputs": [
    {
     "data": {
      "text/html": [
       "\n",
       "<div class='tableauPlaceholder' id='viz1714676089016' style='position: relative'><noscript><a href='#'><img alt='Video Game Sales: All Regions ' src='https:&#47;&#47;public.tableau.com&#47;static&#47;images&#47;Al&#47;AllRegions_17146760382560&#47;AllRegions-Sales&#47;1_rss.png' style='border: none' /></a></noscript><object class='tableauViz'  style='display:none;'><param name='host_url' value='https%3A%2F%2Fpublic.tableau.com%2F' /> <param name='embed_code_version' value='3' /> <param name='site_root' value='' /><param name='name' value='AllRegions_17146760382560&#47;AllRegions-Sales' /><param name='tabs' value='no' /><param name='toolbar' value='yes' /><param name='static_image' value='https:&#47;&#47;public.tableau.com&#47;static&#47;images&#47;Al&#47;AllRegions_17146760382560&#47;AllRegions-Sales&#47;1.png' /> <param name='animate_transition' value='yes' /><param name='display_static_image' value='yes' /><param name='display_spinner' value='yes' /><param name='display_overlay' value='yes' /><param name='display_count' value='yes' /><param name='language' value='en-US' /></object></div>                <script type='text/javascript'>                    var divElement = document.getElementById('viz1714676089016');                    var vizElement = divElement.getElementsByTagName('object')[0];                    vizElement.style.width='100%';vizElement.style.height=(divElement.offsetWidth*0.75)+'px';                    var scriptElement = document.createElement('script');                    scriptElement.src = 'https://public.tableau.com/javascripts/api/viz_v1.js';                    vizElement.parentNode.insertBefore(scriptElement, vizElement);                </script>\n"
      ],
      "text/plain": [
       "<IPython.core.display.HTML object>"
      ]
     },
     "metadata": {},
     "output_type": "display_data"
    }
   ],
   "source": [
    "%%HTML\n",
    "\n",
    "<div class='tableauPlaceholder' id='viz1714676089016' style='position: relative'><noscript><a href='#'><img alt='Video Game Sales: All Regions ' src='https:&#47;&#47;public.tableau.com&#47;static&#47;images&#47;Al&#47;AllRegions_17146760382560&#47;AllRegions-Sales&#47;1_rss.png' style='border: none' /></a></noscript><object class='tableauViz'  style='display:none;'><param name='host_url' value='https%3A%2F%2Fpublic.tableau.com%2F' /> <param name='embed_code_version' value='3' /> <param name='site_root' value='' /><param name='name' value='AllRegions_17146760382560&#47;AllRegions-Sales' /><param name='tabs' value='no' /><param name='toolbar' value='yes' /><param name='static_image' value='https:&#47;&#47;public.tableau.com&#47;static&#47;images&#47;Al&#47;AllRegions_17146760382560&#47;AllRegions-Sales&#47;1.png' /> <param name='animate_transition' value='yes' /><param name='display_static_image' value='yes' /><param name='display_spinner' value='yes' /><param name='display_overlay' value='yes' /><param name='display_count' value='yes' /><param name='language' value='en-US' /></object></div>                <script type='text/javascript'>                    var divElement = document.getElementById('viz1714676089016');                    var vizElement = divElement.getElementsByTagName('object')[0];                    vizElement.style.width='100%';vizElement.style.height=(divElement.offsetWidth*0.75)+'px';                    var scriptElement = document.createElement('script');                    scriptElement.src = 'https://public.tableau.com/javascripts/api/viz_v1.js';                    vizElement.parentNode.insertBefore(scriptElement, vizElement);                </script>"
   ]
  },
  {
   "cell_type": "markdown",
   "id": "b75774e5",
   "metadata": {
    "papermill": {
     "duration": 0.00342,
     "end_time": "2024-05-14T13:18:03.750004",
     "exception": false,
     "start_time": "2024-05-14T13:18:03.746584",
     "status": "completed"
    },
    "tags": []
   },
   "source": [
    "While some games are popular across North America and Europe, Japan marches to its own gaming beat.<br><br>\n",
    "It can be seen even by the palette reflecting top-selling genres.<br>The hues of best-selling games in North America and the EU, sports and shooters, make a striking contrast to Japanese favourites, role-playing.<br>\n",
    "<br>\"Wii Sports\" and \"Grand Theft Auto V\" find favour in both Europe and North America.<br>\n",
    "<br>In Japan, however, franchises like Mario and Pokémon have historically dominated the market."
   ]
  },
  {
   "cell_type": "code",
   "execution_count": 5,
   "id": "901b9d90",
   "metadata": {
    "_kg_hide-input": true,
    "execution": {
     "iopub.execute_input": "2024-05-14T13:18:03.758905Z",
     "iopub.status.busy": "2024-05-14T13:18:03.758541Z",
     "iopub.status.idle": "2024-05-14T13:18:03.767340Z",
     "shell.execute_reply": "2024-05-14T13:18:03.766204Z"
    },
    "papermill": {
     "duration": 0.015988,
     "end_time": "2024-05-14T13:18:03.769631",
     "exception": false,
     "start_time": "2024-05-14T13:18:03.753643",
     "status": "completed"
    },
    "tags": []
   },
   "outputs": [
    {
     "data": {
      "text/html": [
       "\n",
       "<div class='tableauPlaceholder' id='viz1715366180598' style='position: relative'><noscript><a href='#'><img alt=' ' src='https:&#47;&#47;public.tableau.com&#47;static&#47;images&#47;To&#47;Topgames_17153655768950&#47;NA2&#47;1_rss.png' style='border: none' /></a></noscript><object class='tableauViz'  style='display:none;'><param name='host_url' value='https%3A%2F%2Fpublic.tableau.com%2F' /> <param name='embed_code_version' value='3' /> <param name='site_root' value='' /><param name='name' value='Topgames_17153655768950&#47;NA2' /><param name='tabs' value='yes' /><param name='toolbar' value='yes' /><param name='static_image' value='https:&#47;&#47;public.tableau.com&#47;static&#47;images&#47;To&#47;Topgames_17153655768950&#47;NA2&#47;1.png' /> <param name='animate_transition' value='yes' /><param name='display_static_image' value='yes' /><param name='display_spinner' value='yes' /><param name='display_overlay' value='yes' /><param name='display_count' value='yes' /><param name='language' value='en-US' /></object></div>                <script type='text/javascript'>                    var divElement = document.getElementById('viz1715366180598');                    var vizElement = divElement.getElementsByTagName('object')[0];                    vizElement.style.width='100%';vizElement.style.height=(divElement.offsetWidth*0.75)+'px';                    var scriptElement = document.createElement('script');                    scriptElement.src = 'https://public.tableau.com/javascripts/api/viz_v1.js';                    vizElement.parentNode.insertBefore(scriptElement, vizElement);                </script>\n"
      ],
      "text/plain": [
       "<IPython.core.display.HTML object>"
      ]
     },
     "metadata": {},
     "output_type": "display_data"
    }
   ],
   "source": [
    "%%HTML\n",
    "\n",
    "<div class='tableauPlaceholder' id='viz1715366180598' style='position: relative'><noscript><a href='#'><img alt=' ' src='https:&#47;&#47;public.tableau.com&#47;static&#47;images&#47;To&#47;Topgames_17153655768950&#47;NA2&#47;1_rss.png' style='border: none' /></a></noscript><object class='tableauViz'  style='display:none;'><param name='host_url' value='https%3A%2F%2Fpublic.tableau.com%2F' /> <param name='embed_code_version' value='3' /> <param name='site_root' value='' /><param name='name' value='Topgames_17153655768950&#47;NA2' /><param name='tabs' value='yes' /><param name='toolbar' value='yes' /><param name='static_image' value='https:&#47;&#47;public.tableau.com&#47;static&#47;images&#47;To&#47;Topgames_17153655768950&#47;NA2&#47;1.png' /> <param name='animate_transition' value='yes' /><param name='display_static_image' value='yes' /><param name='display_spinner' value='yes' /><param name='display_overlay' value='yes' /><param name='display_count' value='yes' /><param name='language' value='en-US' /></object></div>                <script type='text/javascript'>                    var divElement = document.getElementById('viz1715366180598');                    var vizElement = divElement.getElementsByTagName('object')[0];                    vizElement.style.width='100%';vizElement.style.height=(divElement.offsetWidth*0.75)+'px';                    var scriptElement = document.createElement('script');                    scriptElement.src = 'https://public.tableau.com/javascripts/api/viz_v1.js';                    vizElement.parentNode.insertBefore(scriptElement, vizElement);                </script>"
   ]
  },
  {
   "cell_type": "code",
   "execution_count": 6,
   "id": "46f527a6",
   "metadata": {},
   "outputs": [
    {
     "name": "stdout",
     "output_type": "stream",
     "text": [
      "Index(['Name', 'Platform', 'Year_of_Release', 'Genre', 'Publisher', 'NA_Sales',\n",
      "       'EU_Sales', 'JP_Sales', 'Other_Sales', 'Global_Sales', 'Critic_Score',\n",
      "       'Critic_Count', 'User_Score', 'User_Count', 'Developer', 'Rating'],\n",
      "      dtype='object')\n"
     ]
    }
   ],
   "source": [
    "import pandas as pd\n",
    "\n",
    "df = pd.read_csv('Video_Games_Sales.csv')\n",
    "\n",
    "df.dropna(inplace=True)\n",
    "\n",
    "df.drop_duplicates(inplace=True)\n",
    "\n",
    "df.to_csv('Video_Games_Sales.csv', index=False)\n",
    "\n",
    "print(df.columns)"
   ]
  },
  {
   "cell_type": "markdown",
   "id": "bef0f16e",
   "metadata": {
    "papermill": {
     "duration": 0.003712,
     "end_time": "2024-05-14T13:18:03.777331",
     "exception": false,
     "start_time": "2024-05-14T13:18:03.773619",
     "status": "completed"
    },
    "tags": []
   },
   "source": [
    "This visualisation:\n",
    "- displays **sales dynamic** from 2006 to 2016 in North America, the European Union, Japan and the rest of the world.\n",
    "- enables us to see **bestsellers in each region** by release year.\n",
    "\n",
    "To delve deeper into the data, you can filter by:\n",
    "- **genre** (e.g., Action or Role-Playing)\n",
    "- **platform** (e.g., Wii or PC)\n",
    "- **publisher** (e.g., 3DO or New World Computing)."
   ]
  },
  {
   "cell_type": "code",
   "execution_count": 7,
   "id": "ad613baf",
   "metadata": {
    "_kg_hide-input": true,
    "execution": {
     "iopub.execute_input": "2024-05-14T13:18:03.787111Z",
     "iopub.status.busy": "2024-05-14T13:18:03.786480Z",
     "iopub.status.idle": "2024-05-14T13:18:03.794812Z",
     "shell.execute_reply": "2024-05-14T13:18:03.793529Z"
    },
    "papermill": {
     "duration": 0.015965,
     "end_time": "2024-05-14T13:18:03.797282",
     "exception": false,
     "start_time": "2024-05-14T13:18:03.781317",
     "status": "completed"
    },
    "tags": []
   },
   "outputs": [
    {
     "data": {
      "text/html": [
       "\n",
       "<div class='tableauPlaceholder' id='viz1714817566930' style='position: relative'><noscript><a href='#'><img alt=' ' src='https:&#47;&#47;public.tableau.com&#47;static&#47;images&#47;Vi&#47;VideoGameSalesbyregion&#47;OthersvsGlobalSales&#47;1_rss.png' style='border: none' /></a></noscript><object class='tableauViz'  style='display:none;'><param name='host_url' value='https%3A%2F%2Fpublic.tableau.com%2F' /> <param name='embed_code_version' value='3' /> <param name='site_root' value='' /><param name='name' value='VideoGameSalesbyregion&#47;OthersvsGlobalSales' /><param name='tabs' value='yes' /><param name='toolbar' value='yes' /><param name='static_image' value='https:&#47;&#47;public.tableau.com&#47;static&#47;images&#47;Vi&#47;VideoGameSalesbyregion&#47;OthersvsGlobalSales&#47;1.png' /> <param name='animate_transition' value='yes' /><param name='display_static_image' value='yes' /><param name='display_spinner' value='yes' /><param name='display_overlay' value='yes' /><param name='display_count' value='yes' /><param name='language' value='en-US' /></object></div>                <script type='text/javascript'>                    var divElement = document.getElementById('viz1714817566930');                    var vizElement = divElement.getElementsByTagName('object')[0];                    vizElement.style.width='100%';vizElement.style.height=(divElement.offsetWidth*0.75)+'px';                    var scriptElement = document.createElement('script');                    scriptElement.src = 'https://public.tableau.com/javascripts/api/viz_v1.js';                    vizElement.parentNode.insertBefore(scriptElement, vizElement);                </script>\n"
      ],
      "text/plain": [
       "<IPython.core.display.HTML object>"
      ]
     },
     "metadata": {},
     "output_type": "display_data"
    }
   ],
   "source": [
    "%%HTML\n",
    "\n",
    "<div class='tableauPlaceholder' id='viz1714817566930' style='position: relative'><noscript><a href='#'><img alt=' ' src='https:&#47;&#47;public.tableau.com&#47;static&#47;images&#47;Vi&#47;VideoGameSalesbyregion&#47;OthersvsGlobalSales&#47;1_rss.png' style='border: none' /></a></noscript><object class='tableauViz'  style='display:none;'><param name='host_url' value='https%3A%2F%2Fpublic.tableau.com%2F' /> <param name='embed_code_version' value='3' /> <param name='site_root' value='' /><param name='name' value='VideoGameSalesbyregion&#47;OthersvsGlobalSales' /><param name='tabs' value='yes' /><param name='toolbar' value='yes' /><param name='static_image' value='https:&#47;&#47;public.tableau.com&#47;static&#47;images&#47;Vi&#47;VideoGameSalesbyregion&#47;OthersvsGlobalSales&#47;1.png' /> <param name='animate_transition' value='yes' /><param name='display_static_image' value='yes' /><param name='display_spinner' value='yes' /><param name='display_overlay' value='yes' /><param name='display_count' value='yes' /><param name='language' value='en-US' /></object></div>                <script type='text/javascript'>                    var divElement = document.getElementById('viz1714817566930');                    var vizElement = divElement.getElementsByTagName('object')[0];                    vizElement.style.width='100%';vizElement.style.height=(divElement.offsetWidth*0.75)+'px';                    var scriptElement = document.createElement('script');                    scriptElement.src = 'https://public.tableau.com/javascripts/api/viz_v1.js';                    vizElement.parentNode.insertBefore(scriptElement, vizElement);                </script>"
   ]
  },
  {
   "cell_type": "markdown",
   "id": "357e5eb4",
   "metadata": {
    "papermill": {
     "duration": 0.004053,
     "end_time": "2024-05-14T13:18:03.805610",
     "exception": false,
     "start_time": "2024-05-14T13:18:03.801557",
     "status": "completed"
    },
    "tags": []
   },
   "source": [
    "This visualisation allows us to explore the activity of five top-performing publishers on the global market:\n",
    "- Nintendo\n",
    "- Electronic Arts\n",
    "- Activision\n",
    "- Ubisoft\n",
    "- Sony Computers.\n",
    "\n",
    "Video games are grouped and colour-coded by genre."
   ]
  },
  {
   "cell_type": "code",
   "execution_count": 8,
   "id": "6e941ba6",
   "metadata": {
    "_kg_hide-input": true,
    "execution": {
     "iopub.execute_input": "2024-05-14T13:18:03.816273Z",
     "iopub.status.busy": "2024-05-14T13:18:03.815908Z",
     "iopub.status.idle": "2024-05-14T13:18:03.824107Z",
     "shell.execute_reply": "2024-05-14T13:18:03.823006Z"
    },
    "papermill": {
     "duration": 0.016521,
     "end_time": "2024-05-14T13:18:03.826712",
     "exception": false,
     "start_time": "2024-05-14T13:18:03.810191",
     "status": "completed"
    },
    "tags": []
   },
   "outputs": [
    {
     "data": {
      "text/html": [
       "\n",
       "<div class='tableauPlaceholder' id='viz1715605218560' style='position: relative'><noscript><a href='#'><img alt='Top Publishers and Their Games (Global Market, 2006-2016) ' src='https:&#47;&#47;public.tableau.com&#47;static&#47;images&#47;To&#47;Toppublishers_17156051014380&#47;Sheet72&#47;1_rss.png' style='border: none' /></a></noscript><object class='tableauViz'  style='display:none;'><param name='host_url' value='https%3A%2F%2Fpublic.tableau.com%2F' /> <param name='embed_code_version' value='3' /> <param name='site_root' value='' /><param name='name' value='Toppublishers_17156051014380&#47;Sheet72' /><param name='tabs' value='no' /><param name='toolbar' value='yes' /><param name='static_image' value='https:&#47;&#47;public.tableau.com&#47;static&#47;images&#47;To&#47;Toppublishers_17156051014380&#47;Sheet72&#47;1.png' /> <param name='animate_transition' value='yes' /><param name='display_static_image' value='yes' /><param name='display_spinner' value='yes' /><param name='display_overlay' value='yes' /><param name='display_count' value='yes' /><param name='language' value='en-US' /></object></div>                <script type='text/javascript'>                    var divElement = document.getElementById('viz1715605218560');                    var vizElement = divElement.getElementsByTagName('object')[0];                    vizElement.style.width='100%';vizElement.style.height=(divElement.offsetWidth*0.75)+'px';                    var scriptElement = document.createElement('script');                    scriptElement.src = 'https://public.tableau.com/javascripts/api/viz_v1.js';                    vizElement.parentNode.insertBefore(scriptElement, vizElement);                </script>\n"
      ],
      "text/plain": [
       "<IPython.core.display.HTML object>"
      ]
     },
     "metadata": {},
     "output_type": "display_data"
    }
   ],
   "source": [
    "%%HTML\n",
    "\n",
    "<div class='tableauPlaceholder' id='viz1715605218560' style='position: relative'><noscript><a href='#'><img alt='Top Publishers and Their Games (Global Market, 2006-2016) ' src='https:&#47;&#47;public.tableau.com&#47;static&#47;images&#47;To&#47;Toppublishers_17156051014380&#47;Sheet72&#47;1_rss.png' style='border: none' /></a></noscript><object class='tableauViz'  style='display:none;'><param name='host_url' value='https%3A%2F%2Fpublic.tableau.com%2F' /> <param name='embed_code_version' value='3' /> <param name='site_root' value='' /><param name='name' value='Toppublishers_17156051014380&#47;Sheet72' /><param name='tabs' value='no' /><param name='toolbar' value='yes' /><param name='static_image' value='https:&#47;&#47;public.tableau.com&#47;static&#47;images&#47;To&#47;Toppublishers_17156051014380&#47;Sheet72&#47;1.png' /> <param name='animate_transition' value='yes' /><param name='display_static_image' value='yes' /><param name='display_spinner' value='yes' /><param name='display_overlay' value='yes' /><param name='display_count' value='yes' /><param name='language' value='en-US' /></object></div>                <script type='text/javascript'>                    var divElement = document.getElementById('viz1715605218560');                    var vizElement = divElement.getElementsByTagName('object')[0];                    vizElement.style.width='100%';vizElement.style.height=(divElement.offsetWidth*0.75)+'px';                    var scriptElement = document.createElement('script');                    scriptElement.src = 'https://public.tableau.com/javascripts/api/viz_v1.js';                    vizElement.parentNode.insertBefore(scriptElement, vizElement);                </script>"
   ]
  }
 ],
 "metadata": {
  "kaggle": {
   "accelerator": "none",
   "dataSources": [
    {
     "datasetId": 576,
     "sourceId": 1146,
     "sourceType": "datasetVersion"
    }
   ],
   "dockerImageVersionId": 30698,
   "isGpuEnabled": false,
   "isInternetEnabled": true,
   "language": "python",
   "sourceType": "notebook"
  },
  "kernelspec": {
   "display_name": "Python 3",
   "language": "python",
   "name": "python3"
  },
  "language_info": {
   "codemirror_mode": {
    "name": "ipython",
    "version": 3
   },
   "file_extension": ".py",
   "mimetype": "text/x-python",
   "name": "python",
   "nbconvert_exporter": "python",
   "pygments_lexer": "ipython3",
   "version": "3.11.9"
  },
  "papermill": {
   "default_parameters": {},
   "duration": 3.619722,
   "end_time": "2024-05-14T13:18:04.150763",
   "environment_variables": {},
   "exception": null,
   "input_path": "__notebook__.ipynb",
   "output_path": "__notebook__.ipynb",
   "parameters": {},
   "start_time": "2024-05-14T13:18:00.531041",
   "version": "2.5.0"
  }
 },
 "nbformat": 4,
 "nbformat_minor": 5
}
